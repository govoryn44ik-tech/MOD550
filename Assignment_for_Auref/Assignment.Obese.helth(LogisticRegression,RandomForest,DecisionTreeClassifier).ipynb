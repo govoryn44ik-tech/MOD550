{
 "cells": [
  {
   "cell_type": "code",
   "execution_count": 1,
   "id": "53c0be23-b3cb-4ade-b09c-0b74cab92dd0",
   "metadata": {},
   "outputs": [
    {
     "name": "stdout",
     "output_type": "stream",
     "text": [
      "Current working directory: C:\\Users\\govor\\anaconda_projects\\0d779c97-41ae-4743-8a08-902a13153742\n"
     ]
    }
   ],
   "source": [
    "import os\n",
    "print(\"Current working directory:\", os.getcwd())\n"
   ]
  },
  {
   "cell_type": "code",
   "execution_count": 9,
   "id": "6f848e3c-0f0f-40a1-8211-875cda3a244a",
   "metadata": {},
   "outputs": [
    {
     "name": "stderr",
     "output_type": "stream",
     "text": [
      "C:\\Users\\govor\\anaconda3\\Lib\\site-packages\\sklearn\\linear_model\\_logistic.py:465: ConvergenceWarning: lbfgs failed to converge (status=1):\n",
      "STOP: TOTAL NO. OF ITERATIONS REACHED LIMIT.\n",
      "\n",
      "Increase the number of iterations (max_iter) or scale the data as shown in:\n",
      "    https://scikit-learn.org/stable/modules/preprocessing.html\n",
      "Please also refer to the documentation for alternative solver options:\n",
      "    https://scikit-learn.org/stable/modules/linear_model.html#logistic-regression\n",
      "  n_iter_i = _check_optimize_result(\n"
     ]
    },
    {
     "name": "stdout",
     "output_type": "stream",
     "text": [
      "Accuracy (Logistic Regression): 0.9\n",
      "Accuracy (Decision Tree):       0.9\n",
      "Accuracy (Random Forest):       1.0\n",
      "\n",
      "Random Forest Feature Importance (top 10):\n",
      "Daily Steps                0.189452\n",
      "Heart Rate                 0.187966\n",
      "Systolic                   0.146626\n",
      "Diastolic                  0.134272\n",
      "Sleep Duration             0.123359\n",
      "Quality of Sleep           0.087208\n",
      "Physical Activity Level    0.067828\n",
      "Stress Level               0.040324\n",
      "Sleep Disorder             0.022965\n",
      "dtype: float64\n"
     ]
    },
    {
     "data": {
      "image/png": "[encoded data removed]",
      "text/plain": [
       "<Figure size 640x480 with 2 Axes>"
      ]
     },
     "metadata": {},
     "output_type": "display_data"
    },
    {
     "name": "stdout",
     "output_type": "stream",
     "text": [
      "\n",
      "Classification report (Random Forest):\n",
      "              precision    recall  f1-score   support\n",
      "\n",
      "           1       1.00      1.00      1.00         3\n",
      "           2       1.00      1.00      1.00         6\n",
      "           3       1.00      1.00      1.00         1\n",
      "\n",
      "    accuracy                           1.00        10\n",
      "   macro avg       1.00      1.00      1.00        10\n",
      "weighted avg       1.00      1.00      1.00        10\n",
      "\n"
     ]
    }
   ],
   "source": [
    "# ===== 0) Imports =====\n",
    "import pandas as pd\n",
    "from sklearn.model_selection import train_test_split\n",
    "from sklearn.linear_model import LogisticRegression\n",
    "from sklearn.tree import DecisionTreeClassifier\n",
    "from sklearn.ensemble import RandomForestClassifier\n",
    "from sklearn.metrics import confusion_matrix, ConfusionMatrixDisplay, classification_report\n",
    "import matplotlib.pyplot as plt\n",
    "\n",
    "# ===== 1) Load data =====\n",
    "path = r\"C:\\Users\\govor\\anaconda_projects\\0d779c97-41ae-4743-8a08-902a13153742\\Sleep_health_and_lifestyle_dataset.csv\"\n",
    "df = pd.read_csv(path)\n",
    "\n",
    "# ===== 2) Basic cleaning =====\n",
    "# Drop columns that leak or are not useful (if present)\n",
    "for col in [\"Person ID\", \"Gender\", \"Occupation\", \"Age\"]:\n",
    "    if col in df.columns:\n",
    "        df = df.drop(columns=[col])\n",
    "\n",
    "# Split Blood Pressure \"120/80\" -> two numeric columns\n",
    "if \"Blood Pressure\" in df.columns:\n",
    "    bp_split = df[\"Blood Pressure\"].astype(str).str.split(\"/\", expand=True)\n",
    "    df[\"Systolic\"]  = pd.to_numeric(bp_split[0], errors=\"coerce\")\n",
    "    df[\"Diastolic\"] = pd.to_numeric(bp_split[1], errors=\"coerce\")\n",
    "    df = df.drop(columns=[\"Blood Pressure\"])\n",
    "\n",
    "# Drop obvious duplicates (optional)\n",
    "df = df.drop_duplicates()\n",
    "\n",
    "# ===== 3) Encode categorical columns if they are text =====\n",
    "# Target\n",
    "target_col = \"BMI Category\"\n",
    "if df[target_col].dtype == \"object\":\n",
    "    bmi_map = {\n",
    "        \"Underweight\": 0,\n",
    "        \"Normal Weight\": 1,\n",
    "        \"Normal\": 1,          # just in case dataset uses \"Normal\"\n",
    "        \"Overweight\": 2,\n",
    "        \"Obese\": 3\n",
    "    }\n",
    "    df[target_col] = df[target_col].map(bmi_map)\n",
    "\n",
    "# Feature: Sleep Disorder\n",
    "if \"Sleep Disorder\" in df.columns and df[\"Sleep Disorder\"].dtype == \"object\":\n",
    "    sd_map = {\n",
    "        \"None\": 0,\n",
    "        \"Sleep Apnea\": 1,\n",
    "        \"Sleep Apnes\": 1,     # handle typo variant\n",
    "        \"Insomnia\": 2\n",
    "    }\n",
    "    df[\"Sleep Disorder\"] = df[\"Sleep Disorder\"].map(sd_map)\n",
    "\n",
    "# If any rows have missing after mapping/splitting, drop them (simple choice)\n",
    "df = df.dropna()\n",
    "\n",
    "# Make sure target is int\n",
    "df[target_col] = df[target_col].astype(int)\n",
    "\n",
    "# ===== 4) Features / target and split =====\n",
    "y = df[target_col]\n",
    "X = df.drop(columns=[target_col])\n",
    "\n",
    "X_train, X_test, y_train, y_test = train_test_split(\n",
    "    X, y, test_size=0.2, random_state=42, stratify=y\n",
    ")\n",
    "\n",
    "# ===== 5) Train three models (simple settings) =====\n",
    "logreg = LogisticRegression(max_iter=5000)  # more iters to avoid warnings\n",
    "tree   = DecisionTreeClassifier(random_state=42)\n",
    "rf     = RandomForestClassifier(n_estimators=200, random_state=42)\n",
    "\n",
    "logreg.fit(X_train, y_train)\n",
    "tree.fit(X_train, y_train)\n",
    "rf.fit(X_train, y_train)\n",
    "\n",
    "# ===== 6) Accuracy =====\n",
    "print(\"Accuracy (Logistic Regression):\", logreg.score(X_test, y_test))\n",
    "print(\"Accuracy (Decision Tree):      \", tree.score(X_test, y_test))\n",
    "print(\"Accuracy (Random Forest):      \", rf.score(X_test, y_test))\n",
    "\n",
    "# ===== 7) Feature importance from Random Forest =====\n",
    "importances = pd.Series(rf.feature_importances_, index=X.columns).sort_values(ascending=False)\n",
    "print(\"\\nRandom Forest Feature Importance (top 10):\")\n",
    "print(importances.head(10))\n",
    "\n",
    "# ===== 8) Confusion matrix (Random Forest) + classification report =====\n",
    "y_pred = rf.predict(X_test)\n",
    "cm = confusion_matrix(y_test, y_pred)\n",
    "disp = ConfusionMatrixDisplay(confusion_matrix=cm, display_labels=rf.classes_)\n",
    "disp.plot(cmap=\"Blues\", xticks_rotation=45)\n",
    "plt.title(\"Confusion Matrix - Random Forest\")\n",
    "plt.show()\n",
    "\n",
    "print(\"\\nClassification report (Random Forest):\")\n",
    "print(classification_report(y_test, y_pred))\n"
   ]
  },
  {
   "cell_type": "code",
   "execution_count": 6,
   "id": "e62a36a2-441f-474f-8400-af6abe4670cf",
   "metadata": {},
   "outputs": [
    {
     "name": "stdout",
     "output_type": "stream",
     "text": [
      "Sleep Duration             float64\n",
      "Quality of Sleep             int64\n",
      "Physical Activity Level      int64\n",
      "Stress Level                 int64\n",
      "BMI Category                 int64\n",
      "Blood Pressure              object\n",
      "Heart Rate                   int64\n",
      "Daily Steps                  int64\n",
      "Sleep Disorder               int64\n",
      "dtype: object\n"
     ]
    }
   ],
   "source": [
    "print(df.dtypes)"
   ]
  },
  {
   "cell_type": "code",
   "execution_count": 5,
   "id": "3639d620-2d9f-4e60-bdb3-98d0e60a3e08",
   "metadata": {},
   "outputs": [
    {
     "name": "stdout",
     "output_type": "stream",
     "text": [
      "   Sleep Duration  Quality of Sleep  Physical Activity Level  Stress Level  \\\n",
      "0             6.1                 6                       42             6   \n",
      "1             6.2                 6                       60             8   \n",
      "2             6.2                 6                       60             8   \n",
      "3             5.9                 4                       30             8   \n",
      "4             5.9                 4                       30             8   \n",
      "\n",
      "   BMI Category Blood Pressure  Heart Rate  Daily Steps  Sleep Disorder  \n",
      "0             3         126/83          77         4200               2  \n",
      "1             0         125/80          75        10000               2  \n",
      "2             0         125/80          75        10000               2  \n",
      "3             2         140/90          85         3000               1  \n",
      "4             2         140/90          85         3000               1  \n"
     ]
    }
   ],
   "source": [
    "print(df.head())"
   ]
  },
  {
   "cell_type": "code",
   "execution_count": null,
   "id": "42b42d60-b81d-4134-b435-3a41a943ca7c",
   "metadata": {},
   "outputs": [],
   "source": []
  }
 ],
 "metadata": {
  "kernelspec": {
   "display_name": "Python [conda env:base] *",
   "language": "python",
   "name": "conda-base-py"
  },
  "language_info": {
   "codemirror_mode": {
    "name": "ipython",
    "version": 3
   },
   "file_extension": ".py",
   "mimetype": "text/x-python",
   "name": "python",
   "nbconvert_exporter": "python",
   "pygments_lexer": "ipython3",
   "version": "3.13.5"
  }
 },
 "nbformat": 4,
 "nbformat_minor": 5
}
