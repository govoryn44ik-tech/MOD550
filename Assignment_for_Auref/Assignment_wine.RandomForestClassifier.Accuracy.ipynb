{
 "cells": [
  {
   "cell_type": "code",
   "execution_count": 1,
   "id": "e4a4dbe2-dfe7-4329-b419-3a60ad182eb6",
   "metadata": {},
   "outputs": [
    {
     "name": "stdout",
     "output_type": "stream",
     "text": [
      "Current working directory: C:\\Users\\govor\\anaconda_projects\\0d779c97-41ae-4743-8a08-902a13153742\n"
     ]
    }
   ],
   "source": [
    "import os\n",
    "print(\"Current working directory:\", os.getcwd())\n"
   ]
  },
  {
   "cell_type": "code",
   "execution_count": 2,
   "id": "45e0fb2c-45aa-49bd-a905-5e955b5b716a",
   "metadata": {},
   "outputs": [],
   "source": [
    "import pandas as pd\n",
    "df = pd.read_csv(\"wine_quality.csv\")  \n",
    "# open our data"
   ]
  },
  {
   "cell_type": "code",
   "execution_count": 3,
   "id": "b5fc43d3-a4ae-442d-a0f3-f6b54520dbe7",
   "metadata": {},
   "outputs": [
    {
     "data": {
      "text/html": [
       "<div>\n",
       "<style scoped>\n",
       "    .dataframe tbody tr th:only-of-type {\n",
       "        vertical-align: middle;\n",
       "    }\n",
       "\n",
       "    .dataframe tbody tr th {\n",
       "        vertical-align: top;\n",
       "    }\n",
       "\n",
       "    .dataframe thead th {\n",
       "        text-align: right;\n",
       "    }\n",
       "</style>\n",
       "<table border=\"1\" class=\"dataframe\">\n",
       "  <thead>\n",
       "    <tr style=\"text-align: right;\">\n",
       "      <th></th>\n",
       "      <th>Unnamed: 0</th>\n",
       "      <th>fixed acidity</th>\n",
       "      <th>volatile acidity</th>\n",
       "      <th>citric acid</th>\n",
       "      <th>residual sugar</th>\n",
       "      <th>chlorides</th>\n",
       "      <th>free sulfur dioxide</th>\n",
       "      <th>total sulfur dioxide</th>\n",
       "      <th>density</th>\n",
       "      <th>pH</th>\n",
       "      <th>sulphates</th>\n",
       "      <th>alcohol</th>\n",
       "      <th>quality</th>\n",
       "      <th>type</th>\n",
       "    </tr>\n",
       "  </thead>\n",
       "  <tbody>\n",
       "    <tr>\n",
       "      <th>0</th>\n",
       "      <td>6496</td>\n",
       "      <td>6.1</td>\n",
       "      <td>0.26</td>\n",
       "      <td>0.25</td>\n",
       "      <td>2.9</td>\n",
       "      <td>0.047</td>\n",
       "      <td>289.0</td>\n",
       "      <td>440.0</td>\n",
       "      <td>0.99314</td>\n",
       "      <td>3.44</td>\n",
       "      <td>0.64</td>\n",
       "      <td>10.5</td>\n",
       "      <td>Worst taste wine</td>\n",
       "      <td>white</td>\n",
       "    </tr>\n",
       "    <tr>\n",
       "      <th>1</th>\n",
       "      <td>6495</td>\n",
       "      <td>6.8</td>\n",
       "      <td>0.26</td>\n",
       "      <td>0.34</td>\n",
       "      <td>15.1</td>\n",
       "      <td>0.060</td>\n",
       "      <td>42.0</td>\n",
       "      <td>162.0</td>\n",
       "      <td>0.99705</td>\n",
       "      <td>3.24</td>\n",
       "      <td>0.52</td>\n",
       "      <td>10.5</td>\n",
       "      <td>Worst taste wine</td>\n",
       "      <td>white</td>\n",
       "    </tr>\n",
       "    <tr>\n",
       "      <th>2</th>\n",
       "      <td>6467</td>\n",
       "      <td>11.6</td>\n",
       "      <td>0.58</td>\n",
       "      <td>0.66</td>\n",
       "      <td>2.2</td>\n",
       "      <td>0.074</td>\n",
       "      <td>10.0</td>\n",
       "      <td>47.0</td>\n",
       "      <td>1.00080</td>\n",
       "      <td>3.25</td>\n",
       "      <td>0.57</td>\n",
       "      <td>9.0</td>\n",
       "      <td>Worst taste wine</td>\n",
       "      <td>red</td>\n",
       "    </tr>\n",
       "    <tr>\n",
       "      <th>3</th>\n",
       "      <td>6468</td>\n",
       "      <td>10.4</td>\n",
       "      <td>0.61</td>\n",
       "      <td>0.49</td>\n",
       "      <td>2.1</td>\n",
       "      <td>0.200</td>\n",
       "      <td>5.0</td>\n",
       "      <td>16.0</td>\n",
       "      <td>0.99940</td>\n",
       "      <td>3.16</td>\n",
       "      <td>0.63</td>\n",
       "      <td>8.4</td>\n",
       "      <td>Worst taste wine</td>\n",
       "      <td>red</td>\n",
       "    </tr>\n",
       "    <tr>\n",
       "      <th>4</th>\n",
       "      <td>6470</td>\n",
       "      <td>10.4</td>\n",
       "      <td>0.44</td>\n",
       "      <td>0.42</td>\n",
       "      <td>1.5</td>\n",
       "      <td>0.145</td>\n",
       "      <td>34.0</td>\n",
       "      <td>48.0</td>\n",
       "      <td>0.99832</td>\n",
       "      <td>3.38</td>\n",
       "      <td>0.86</td>\n",
       "      <td>9.9</td>\n",
       "      <td>Worst taste wine</td>\n",
       "      <td>red</td>\n",
       "    </tr>\n",
       "  </tbody>\n",
       "</table>\n",
       "</div>"
      ],
      "text/plain": [
       "   Unnamed: 0  fixed acidity  volatile acidity  citric acid  residual sugar  \\\n",
       "0        6496            6.1              0.26         0.25             2.9   \n",
       "1        6495            6.8              0.26         0.34            15.1   \n",
       "2        6467           11.6              0.58         0.66             2.2   \n",
       "3        6468           10.4              0.61         0.49             2.1   \n",
       "4        6470           10.4              0.44         0.42             1.5   \n",
       "\n",
       "   chlorides  free sulfur dioxide  total sulfur dioxide  density    pH  \\\n",
       "0      0.047                289.0                 440.0  0.99314  3.44   \n",
       "1      0.060                 42.0                 162.0  0.99705  3.24   \n",
       "2      0.074                 10.0                  47.0  1.00080  3.25   \n",
       "3      0.200                  5.0                  16.0  0.99940  3.16   \n",
       "4      0.145                 34.0                  48.0  0.99832  3.38   \n",
       "\n",
       "   sulphates  alcohol           quality   type  \n",
       "0       0.64     10.5  Worst taste wine  white  \n",
       "1       0.52     10.5  Worst taste wine  white  \n",
       "2       0.57      9.0  Worst taste wine    red  \n",
       "3       0.63      8.4  Worst taste wine    red  \n",
       "4       0.86      9.9  Worst taste wine    red  "
      ]
     },
     "execution_count": 3,
     "metadata": {},
     "output_type": "execute_result"
    }
   ],
   "source": [
    "df.head()"
   ]
  },
  {
   "cell_type": "code",
   "execution_count": 4,
   "id": "01848048-5b96-4c72-bbc5-5e3a2a6ea73f",
   "metadata": {},
   "outputs": [
    {
     "name": "stdout",
     "output_type": "stream",
     "text": [
      "Unnamed: 0\n",
      "fixed acidity\n",
      "volatile acidity\n",
      "citric acid\n",
      "residual sugar\n",
      "chlorides\n",
      "free sulfur dioxide\n",
      "total sulfur dioxide\n",
      "density\n",
      "pH\n",
      "sulphates\n",
      "alcohol\n",
      "quality\n",
      "type\n"
     ]
    }
   ],
   "source": [
    "for col in df.columns:\n",
    "    print(col)"
   ]
  },
  {
   "cell_type": "code",
   "execution_count": 5,
   "id": "c416d2de-4841-4edb-8fcf-bd0bdb83056a",
   "metadata": {},
   "outputs": [
    {
     "name": "stdout",
     "output_type": "stream",
     "text": [
      "<class 'pandas.core.frame.DataFrame'>\n",
      "RangeIndex: 6497 entries, 0 to 6496\n",
      "Data columns (total 14 columns):\n",
      " #   Column                Non-Null Count  Dtype  \n",
      "---  ------                --------------  -----  \n",
      " 0   Unnamed: 0            6497 non-null   int64  \n",
      " 1   fixed acidity         6497 non-null   float64\n",
      " 2   volatile acidity      6497 non-null   float64\n",
      " 3   citric acid           6497 non-null   float64\n",
      " 4   residual sugar        6497 non-null   float64\n",
      " 5   chlorides             6497 non-null   float64\n",
      " 6   free sulfur dioxide   6497 non-null   float64\n",
      " 7   total sulfur dioxide  6497 non-null   float64\n",
      " 8   density               6497 non-null   float64\n",
      " 9   pH                    6497 non-null   float64\n",
      " 10  sulphates             6497 non-null   float64\n",
      " 11  alcohol               6497 non-null   float64\n",
      " 12  quality               6497 non-null   object \n",
      " 13  type                  6497 non-null   object \n",
      "dtypes: float64(11), int64(1), object(2)\n",
      "memory usage: 710.7+ KB\n"
     ]
    }
   ],
   "source": [
    "df.info()\n"
   ]
  },
  {
   "cell_type": "code",
   "execution_count": 6,
   "id": "3e96bc70-3847-4d46-992d-4b46341889ea",
   "metadata": {},
   "outputs": [
    {
     "data": {
      "text/plain": [
       "Unnamed: 0              0\n",
       "fixed acidity           0\n",
       "volatile acidity        0\n",
       "citric acid             0\n",
       "residual sugar          0\n",
       "chlorides               0\n",
       "free sulfur dioxide     0\n",
       "total sulfur dioxide    0\n",
       "density                 0\n",
       "pH                      0\n",
       "sulphates               0\n",
       "alcohol                 0\n",
       "quality                 0\n",
       "type                    0\n",
       "dtype: int64"
      ]
     },
     "execution_count": 6,
     "metadata": {},
     "output_type": "execute_result"
    }
   ],
   "source": [
    "df.isnull().sum()"
   ]
  },
  {
   "cell_type": "code",
   "execution_count": 7,
   "id": "cc9c5d02-3978-4057-8c6d-35b6541f3c78",
   "metadata": {},
   "outputs": [
    {
     "data": {
      "text/html": [
       "<div>\n",
       "<style scoped>\n",
       "    .dataframe tbody tr th:only-of-type {\n",
       "        vertical-align: middle;\n",
       "    }\n",
       "\n",
       "    .dataframe tbody tr th {\n",
       "        vertical-align: top;\n",
       "    }\n",
       "\n",
       "    .dataframe thead th {\n",
       "        text-align: right;\n",
       "    }\n",
       "</style>\n",
       "<table border=\"1\" class=\"dataframe\">\n",
       "  <thead>\n",
       "    <tr style=\"text-align: right;\">\n",
       "      <th></th>\n",
       "      <th>Unnamed: 0</th>\n",
       "      <th>fixed acidity</th>\n",
       "      <th>volatile acidity</th>\n",
       "      <th>citric acid</th>\n",
       "      <th>residual sugar</th>\n",
       "      <th>chlorides</th>\n",
       "      <th>free sulfur dioxide</th>\n",
       "      <th>total sulfur dioxide</th>\n",
       "      <th>density</th>\n",
       "      <th>pH</th>\n",
       "      <th>sulphates</th>\n",
       "      <th>alcohol</th>\n",
       "    </tr>\n",
       "  </thead>\n",
       "  <tbody>\n",
       "    <tr>\n",
       "      <th>count</th>\n",
       "      <td>6497.000000</td>\n",
       "      <td>6497.000000</td>\n",
       "      <td>6497.000000</td>\n",
       "      <td>6497.000000</td>\n",
       "      <td>6497.000000</td>\n",
       "      <td>6497.000000</td>\n",
       "      <td>6497.000000</td>\n",
       "      <td>6497.000000</td>\n",
       "      <td>6497.000000</td>\n",
       "      <td>6497.000000</td>\n",
       "      <td>6497.000000</td>\n",
       "      <td>6497.000000</td>\n",
       "    </tr>\n",
       "    <tr>\n",
       "      <th>mean</th>\n",
       "      <td>3248.000000</td>\n",
       "      <td>7.215307</td>\n",
       "      <td>0.339666</td>\n",
       "      <td>0.318633</td>\n",
       "      <td>5.443235</td>\n",
       "      <td>0.056034</td>\n",
       "      <td>30.525319</td>\n",
       "      <td>115.744574</td>\n",
       "      <td>0.994697</td>\n",
       "      <td>3.218501</td>\n",
       "      <td>0.531268</td>\n",
       "      <td>10.491801</td>\n",
       "    </tr>\n",
       "    <tr>\n",
       "      <th>std</th>\n",
       "      <td>1875.666681</td>\n",
       "      <td>1.296434</td>\n",
       "      <td>0.164636</td>\n",
       "      <td>0.145318</td>\n",
       "      <td>4.757804</td>\n",
       "      <td>0.035034</td>\n",
       "      <td>17.749400</td>\n",
       "      <td>56.521855</td>\n",
       "      <td>0.002999</td>\n",
       "      <td>0.160787</td>\n",
       "      <td>0.148806</td>\n",
       "      <td>1.192712</td>\n",
       "    </tr>\n",
       "    <tr>\n",
       "      <th>min</th>\n",
       "      <td>0.000000</td>\n",
       "      <td>3.800000</td>\n",
       "      <td>0.080000</td>\n",
       "      <td>0.000000</td>\n",
       "      <td>0.600000</td>\n",
       "      <td>0.009000</td>\n",
       "      <td>1.000000</td>\n",
       "      <td>6.000000</td>\n",
       "      <td>0.987110</td>\n",
       "      <td>2.720000</td>\n",
       "      <td>0.220000</td>\n",
       "      <td>8.000000</td>\n",
       "    </tr>\n",
       "    <tr>\n",
       "      <th>25%</th>\n",
       "      <td>1624.000000</td>\n",
       "      <td>6.400000</td>\n",
       "      <td>0.230000</td>\n",
       "      <td>0.250000</td>\n",
       "      <td>1.800000</td>\n",
       "      <td>0.038000</td>\n",
       "      <td>17.000000</td>\n",
       "      <td>77.000000</td>\n",
       "      <td>0.992340</td>\n",
       "      <td>3.110000</td>\n",
       "      <td>0.430000</td>\n",
       "      <td>9.500000</td>\n",
       "    </tr>\n",
       "    <tr>\n",
       "      <th>50%</th>\n",
       "      <td>3248.000000</td>\n",
       "      <td>7.000000</td>\n",
       "      <td>0.290000</td>\n",
       "      <td>0.310000</td>\n",
       "      <td>3.000000</td>\n",
       "      <td>0.047000</td>\n",
       "      <td>29.000000</td>\n",
       "      <td>118.000000</td>\n",
       "      <td>0.994890</td>\n",
       "      <td>3.210000</td>\n",
       "      <td>0.510000</td>\n",
       "      <td>10.300000</td>\n",
       "    </tr>\n",
       "    <tr>\n",
       "      <th>75%</th>\n",
       "      <td>4872.000000</td>\n",
       "      <td>7.700000</td>\n",
       "      <td>0.400000</td>\n",
       "      <td>0.390000</td>\n",
       "      <td>8.100000</td>\n",
       "      <td>0.065000</td>\n",
       "      <td>41.000000</td>\n",
       "      <td>156.000000</td>\n",
       "      <td>0.996990</td>\n",
       "      <td>3.320000</td>\n",
       "      <td>0.600000</td>\n",
       "      <td>11.300000</td>\n",
       "    </tr>\n",
       "    <tr>\n",
       "      <th>max</th>\n",
       "      <td>6496.000000</td>\n",
       "      <td>15.900000</td>\n",
       "      <td>1.580000</td>\n",
       "      <td>1.660000</td>\n",
       "      <td>65.800000</td>\n",
       "      <td>0.611000</td>\n",
       "      <td>289.000000</td>\n",
       "      <td>440.000000</td>\n",
       "      <td>1.038980</td>\n",
       "      <td>4.010000</td>\n",
       "      <td>2.000000</td>\n",
       "      <td>14.900000</td>\n",
       "    </tr>\n",
       "  </tbody>\n",
       "</table>\n",
       "</div>"
      ],
      "text/plain": [
       "        Unnamed: 0  fixed acidity  volatile acidity  citric acid  \\\n",
       "count  6497.000000    6497.000000       6497.000000  6497.000000   \n",
       "mean   3248.000000       7.215307          0.339666     0.318633   \n",
       "std    1875.666681       1.296434          0.164636     0.145318   \n",
       "min       0.000000       3.800000          0.080000     0.000000   \n",
       "25%    1624.000000       6.400000          0.230000     0.250000   \n",
       "50%    3248.000000       7.000000          0.290000     0.310000   \n",
       "75%    4872.000000       7.700000          0.400000     0.390000   \n",
       "max    6496.000000      15.900000          1.580000     1.660000   \n",
       "\n",
       "       residual sugar    chlorides  free sulfur dioxide  total sulfur dioxide  \\\n",
       "count     6497.000000  6497.000000          6497.000000           6497.000000   \n",
       "mean         5.443235     0.056034            30.525319            115.744574   \n",
       "std          4.757804     0.035034            17.749400             56.521855   \n",
       "min          0.600000     0.009000             1.000000              6.000000   \n",
       "25%          1.800000     0.038000            17.000000             77.000000   \n",
       "50%          3.000000     0.047000            29.000000            118.000000   \n",
       "75%          8.100000     0.065000            41.000000            156.000000   \n",
       "max         65.800000     0.611000           289.000000            440.000000   \n",
       "\n",
       "           density           pH    sulphates      alcohol  \n",
       "count  6497.000000  6497.000000  6497.000000  6497.000000  \n",
       "mean      0.994697     3.218501     0.531268    10.491801  \n",
       "std       0.002999     0.160787     0.148806     1.192712  \n",
       "min       0.987110     2.720000     0.220000     8.000000  \n",
       "25%       0.992340     3.110000     0.430000     9.500000  \n",
       "50%       0.994890     3.210000     0.510000    10.300000  \n",
       "75%       0.996990     3.320000     0.600000    11.300000  \n",
       "max       1.038980     4.010000     2.000000    14.900000  "
      ]
     },
     "execution_count": 7,
     "metadata": {},
     "output_type": "execute_result"
    }
   ],
   "source": [
    "df.describe()"
   ]
  },
  {
   "cell_type": "code",
   "execution_count": 8,
   "id": "d03ea305-1316-49ea-a724-51d28bad206d",
   "metadata": {},
   "outputs": [],
   "source": [
    "df = df.dropna()"
   ]
  },
  {
   "cell_type": "code",
   "execution_count": 9,
   "id": "6646477d-f749-4aab-b97a-465d49d00af0",
   "metadata": {},
   "outputs": [
    {
     "data": {
      "image/png": "[encoded data removed]",
      "text/plain": [
       "<Figure size 800x500 with 1 Axes>"
      ]
     },
     "metadata": {},
     "output_type": "display_data"
    }
   ],
   "source": [
    "import matplotlib.pyplot as plt\n",
    "import seaborn as sns\n",
    "\n",
    "# Example: histogram of alcohol column\n",
    "plt.figure(figsize=(8,5))\n",
    "sns.histplot(df['alcohol'], bins=30, kde=True, color='royalblue')\n",
    "plt.title('Distribution of Alcohol Content')\n",
    "plt.xlabel('Alcohol (%)')\n",
    "plt.ylabel('Frequency')\n",
    "plt.show()\n"
   ]
  },
  {
   "cell_type": "code",
   "execution_count": 10,
   "id": "1c7e35e6-1aed-465e-994b-e0f3c22fe476",
   "metadata": {},
   "outputs": [
    {
     "data": {
      "text/html": [
       "<div>\n",
       "<style scoped>\n",
       "    .dataframe tbody tr th:only-of-type {\n",
       "        vertical-align: middle;\n",
       "    }\n",
       "\n",
       "    .dataframe tbody tr th {\n",
       "        vertical-align: top;\n",
       "    }\n",
       "\n",
       "    .dataframe thead th {\n",
       "        text-align: right;\n",
       "    }\n",
       "</style>\n",
       "<table border=\"1\" class=\"dataframe\">\n",
       "  <thead>\n",
       "    <tr style=\"text-align: right;\">\n",
       "      <th></th>\n",
       "      <th>Unnamed: 0</th>\n",
       "      <th>fixed acidity</th>\n",
       "      <th>volatile acidity</th>\n",
       "      <th>citric acid</th>\n",
       "      <th>residual sugar</th>\n",
       "      <th>chlorides</th>\n",
       "      <th>free sulfur dioxide</th>\n",
       "      <th>total sulfur dioxide</th>\n",
       "      <th>density</th>\n",
       "      <th>pH</th>\n",
       "      <th>sulphates</th>\n",
       "      <th>alcohol</th>\n",
       "      <th>quality</th>\n",
       "      <th>type</th>\n",
       "    </tr>\n",
       "  </thead>\n",
       "  <tbody>\n",
       "    <tr>\n",
       "      <th>0</th>\n",
       "      <td>6496</td>\n",
       "      <td>6.1</td>\n",
       "      <td>0.26</td>\n",
       "      <td>0.25</td>\n",
       "      <td>2.9</td>\n",
       "      <td>0.047</td>\n",
       "      <td>289.0</td>\n",
       "      <td>440.0</td>\n",
       "      <td>0.99314</td>\n",
       "      <td>3.44</td>\n",
       "      <td>0.64</td>\n",
       "      <td>10.5</td>\n",
       "      <td>Worst taste wine</td>\n",
       "      <td>white</td>\n",
       "    </tr>\n",
       "    <tr>\n",
       "      <th>1</th>\n",
       "      <td>6495</td>\n",
       "      <td>6.8</td>\n",
       "      <td>0.26</td>\n",
       "      <td>0.34</td>\n",
       "      <td>15.1</td>\n",
       "      <td>0.060</td>\n",
       "      <td>42.0</td>\n",
       "      <td>162.0</td>\n",
       "      <td>0.99705</td>\n",
       "      <td>3.24</td>\n",
       "      <td>0.52</td>\n",
       "      <td>10.5</td>\n",
       "      <td>Worst taste wine</td>\n",
       "      <td>white</td>\n",
       "    </tr>\n",
       "    <tr>\n",
       "      <th>2</th>\n",
       "      <td>6467</td>\n",
       "      <td>11.6</td>\n",
       "      <td>0.58</td>\n",
       "      <td>0.66</td>\n",
       "      <td>2.2</td>\n",
       "      <td>0.074</td>\n",
       "      <td>10.0</td>\n",
       "      <td>47.0</td>\n",
       "      <td>1.00080</td>\n",
       "      <td>3.25</td>\n",
       "      <td>0.57</td>\n",
       "      <td>9.0</td>\n",
       "      <td>Worst taste wine</td>\n",
       "      <td>red</td>\n",
       "    </tr>\n",
       "    <tr>\n",
       "      <th>3</th>\n",
       "      <td>6468</td>\n",
       "      <td>10.4</td>\n",
       "      <td>0.61</td>\n",
       "      <td>0.49</td>\n",
       "      <td>2.1</td>\n",
       "      <td>0.200</td>\n",
       "      <td>5.0</td>\n",
       "      <td>16.0</td>\n",
       "      <td>0.99940</td>\n",
       "      <td>3.16</td>\n",
       "      <td>0.63</td>\n",
       "      <td>8.4</td>\n",
       "      <td>Worst taste wine</td>\n",
       "      <td>red</td>\n",
       "    </tr>\n",
       "    <tr>\n",
       "      <th>4</th>\n",
       "      <td>6470</td>\n",
       "      <td>10.4</td>\n",
       "      <td>0.44</td>\n",
       "      <td>0.42</td>\n",
       "      <td>1.5</td>\n",
       "      <td>0.145</td>\n",
       "      <td>34.0</td>\n",
       "      <td>48.0</td>\n",
       "      <td>0.99832</td>\n",
       "      <td>3.38</td>\n",
       "      <td>0.86</td>\n",
       "      <td>9.9</td>\n",
       "      <td>Worst taste wine</td>\n",
       "      <td>red</td>\n",
       "    </tr>\n",
       "  </tbody>\n",
       "</table>\n",
       "</div>"
      ],
      "text/plain": [
       "   Unnamed: 0  fixed acidity  volatile acidity  citric acid  residual sugar  \\\n",
       "0        6496            6.1              0.26         0.25             2.9   \n",
       "1        6495            6.8              0.26         0.34            15.1   \n",
       "2        6467           11.6              0.58         0.66             2.2   \n",
       "3        6468           10.4              0.61         0.49             2.1   \n",
       "4        6470           10.4              0.44         0.42             1.5   \n",
       "\n",
       "   chlorides  free sulfur dioxide  total sulfur dioxide  density    pH  \\\n",
       "0      0.047                289.0                 440.0  0.99314  3.44   \n",
       "1      0.060                 42.0                 162.0  0.99705  3.24   \n",
       "2      0.074                 10.0                  47.0  1.00080  3.25   \n",
       "3      0.200                  5.0                  16.0  0.99940  3.16   \n",
       "4      0.145                 34.0                  48.0  0.99832  3.38   \n",
       "\n",
       "   sulphates  alcohol           quality   type  \n",
       "0       0.64     10.5  Worst taste wine  white  \n",
       "1       0.52     10.5  Worst taste wine  white  \n",
       "2       0.57      9.0  Worst taste wine    red  \n",
       "3       0.63      8.4  Worst taste wine    red  \n",
       "4       0.86      9.9  Worst taste wine    red  "
      ]
     },
     "execution_count": 10,
     "metadata": {},
     "output_type": "execute_result"
    }
   ],
   "source": [
    "df.head()"
   ]
  },
  {
   "cell_type": "code",
   "execution_count": 11,
   "id": "eb21c8c3-2714-4044-bf4c-e398c155f457",
   "metadata": {},
   "outputs": [
    {
     "name": "stdout",
     "output_type": "stream",
     "text": [
      "Index(['Unnamed: 0', 'fixed acidity', 'volatile acidity', 'citric acid',\n",
      "       'residual sugar', 'chlorides', 'free sulfur dioxide',\n",
      "       'total sulfur dioxide', 'density', 'pH', 'sulphates', 'alcohol',\n",
      "       'quality', 'type'],\n",
      "      dtype='object')\n"
     ]
    }
   ],
   "source": [
    "print(df.columns)"
   ]
  },
  {
   "cell_type": "code",
   "execution_count": 43,
   "id": "44a9b6fa-94fe-440f-8dc4-e10e252e8633",
   "metadata": {},
   "outputs": [],
   "source": [
    "df = df.drop(columns=['Unnamed: 0'])"
   ]
  },
  {
   "cell_type": "code",
   "execution_count": 13,
   "id": "1a3b0ee5-241e-4074-9538-20e4f254c274",
   "metadata": {},
   "outputs": [
    {
     "data": {
      "text/html": [
       "<div>\n",
       "<style scoped>\n",
       "    .dataframe tbody tr th:only-of-type {\n",
       "        vertical-align: middle;\n",
       "    }\n",
       "\n",
       "    .dataframe tbody tr th {\n",
       "        vertical-align: top;\n",
       "    }\n",
       "\n",
       "    .dataframe thead th {\n",
       "        text-align: right;\n",
       "    }\n",
       "</style>\n",
       "<table border=\"1\" class=\"dataframe\">\n",
       "  <thead>\n",
       "    <tr style=\"text-align: right;\">\n",
       "      <th></th>\n",
       "      <th>fixed acidity</th>\n",
       "      <th>volatile acidity</th>\n",
       "      <th>citric acid</th>\n",
       "      <th>residual sugar</th>\n",
       "      <th>chlorides</th>\n",
       "      <th>free sulfur dioxide</th>\n",
       "      <th>total sulfur dioxide</th>\n",
       "      <th>density</th>\n",
       "      <th>pH</th>\n",
       "      <th>sulphates</th>\n",
       "      <th>alcohol</th>\n",
       "      <th>quality</th>\n",
       "      <th>type</th>\n",
       "    </tr>\n",
       "  </thead>\n",
       "  <tbody>\n",
       "    <tr>\n",
       "      <th>0</th>\n",
       "      <td>6.1</td>\n",
       "      <td>0.26</td>\n",
       "      <td>0.25</td>\n",
       "      <td>2.9</td>\n",
       "      <td>0.047</td>\n",
       "      <td>289.0</td>\n",
       "      <td>440.0</td>\n",
       "      <td>0.99314</td>\n",
       "      <td>3.44</td>\n",
       "      <td>0.64</td>\n",
       "      <td>10.5</td>\n",
       "      <td>Worst taste wine</td>\n",
       "      <td>white</td>\n",
       "    </tr>\n",
       "    <tr>\n",
       "      <th>1</th>\n",
       "      <td>6.8</td>\n",
       "      <td>0.26</td>\n",
       "      <td>0.34</td>\n",
       "      <td>15.1</td>\n",
       "      <td>0.060</td>\n",
       "      <td>42.0</td>\n",
       "      <td>162.0</td>\n",
       "      <td>0.99705</td>\n",
       "      <td>3.24</td>\n",
       "      <td>0.52</td>\n",
       "      <td>10.5</td>\n",
       "      <td>Worst taste wine</td>\n",
       "      <td>white</td>\n",
       "    </tr>\n",
       "    <tr>\n",
       "      <th>2</th>\n",
       "      <td>11.6</td>\n",
       "      <td>0.58</td>\n",
       "      <td>0.66</td>\n",
       "      <td>2.2</td>\n",
       "      <td>0.074</td>\n",
       "      <td>10.0</td>\n",
       "      <td>47.0</td>\n",
       "      <td>1.00080</td>\n",
       "      <td>3.25</td>\n",
       "      <td>0.57</td>\n",
       "      <td>9.0</td>\n",
       "      <td>Worst taste wine</td>\n",
       "      <td>red</td>\n",
       "    </tr>\n",
       "    <tr>\n",
       "      <th>3</th>\n",
       "      <td>10.4</td>\n",
       "      <td>0.61</td>\n",
       "      <td>0.49</td>\n",
       "      <td>2.1</td>\n",
       "      <td>0.200</td>\n",
       "      <td>5.0</td>\n",
       "      <td>16.0</td>\n",
       "      <td>0.99940</td>\n",
       "      <td>3.16</td>\n",
       "      <td>0.63</td>\n",
       "      <td>8.4</td>\n",
       "      <td>Worst taste wine</td>\n",
       "      <td>red</td>\n",
       "    </tr>\n",
       "    <tr>\n",
       "      <th>4</th>\n",
       "      <td>10.4</td>\n",
       "      <td>0.44</td>\n",
       "      <td>0.42</td>\n",
       "      <td>1.5</td>\n",
       "      <td>0.145</td>\n",
       "      <td>34.0</td>\n",
       "      <td>48.0</td>\n",
       "      <td>0.99832</td>\n",
       "      <td>3.38</td>\n",
       "      <td>0.86</td>\n",
       "      <td>9.9</td>\n",
       "      <td>Worst taste wine</td>\n",
       "      <td>red</td>\n",
       "    </tr>\n",
       "  </tbody>\n",
       "</table>\n",
       "</div>"
      ],
      "text/plain": [
       "   fixed acidity  volatile acidity  citric acid  residual sugar  chlorides  \\\n",
       "0            6.1              0.26         0.25             2.9      0.047   \n",
       "1            6.8              0.26         0.34            15.1      0.060   \n",
       "2           11.6              0.58         0.66             2.2      0.074   \n",
       "3           10.4              0.61         0.49             2.1      0.200   \n",
       "4           10.4              0.44         0.42             1.5      0.145   \n",
       "\n",
       "   free sulfur dioxide  total sulfur dioxide  density    pH  sulphates  \\\n",
       "0                289.0                 440.0  0.99314  3.44       0.64   \n",
       "1                 42.0                 162.0  0.99705  3.24       0.52   \n",
       "2                 10.0                  47.0  1.00080  3.25       0.57   \n",
       "3                  5.0                  16.0  0.99940  3.16       0.63   \n",
       "4                 34.0                  48.0  0.99832  3.38       0.86   \n",
       "\n",
       "   alcohol           quality   type  \n",
       "0     10.5  Worst taste wine  white  \n",
       "1     10.5  Worst taste wine  white  \n",
       "2      9.0  Worst taste wine    red  \n",
       "3      8.4  Worst taste wine    red  \n",
       "4      9.9  Worst taste wine    red  "
      ]
     },
     "execution_count": 13,
     "metadata": {},
     "output_type": "execute_result"
    }
   ],
   "source": [
    "df.head()"
   ]
  },
  {
   "cell_type": "code",
   "execution_count": 14,
   "id": "6a3b2bf3-5648-428d-a748-ac1d935e9a4c",
   "metadata": {},
   "outputs": [
    {
     "name": "stdout",
     "output_type": "stream",
     "text": [
      "fixed acidity           float64\n",
      "volatile acidity        float64\n",
      "citric acid             float64\n",
      "residual sugar          float64\n",
      "chlorides               float64\n",
      "free sulfur dioxide     float64\n",
      "total sulfur dioxide    float64\n",
      "density                 float64\n",
      "pH                      float64\n",
      "sulphates               float64\n",
      "alcohol                 float64\n",
      "quality                  object\n",
      "type                     object\n",
      "dtype: object\n"
     ]
    }
   ],
   "source": [
    "print(df.dtypes)"
   ]
  },
  {
   "cell_type": "code",
   "execution_count": 15,
   "id": "4d95da55-7528-4579-bbf4-f6870b44e47f",
   "metadata": {},
   "outputs": [
    {
     "name": "stdout",
     "output_type": "stream",
     "text": [
      "0     Worst taste wine\n",
      "1     Worst taste wine\n",
      "2     Worst taste wine\n",
      "3     Worst taste wine\n",
      "4     Worst taste wine\n",
      "5     Worst taste wine\n",
      "6     Worst taste wine\n",
      "7     Worst taste wine\n",
      "8     Worst taste wine\n",
      "9     Worst taste wine\n",
      "10    Worst taste wine\n",
      "11    Worst taste wine\n",
      "12    Worst taste wine\n",
      "13    Worst taste wine\n",
      "14    Worst taste wine\n",
      "15    Worst taste wine\n",
      "16    Worst taste wine\n",
      "17    Worst taste wine\n",
      "18    Worst taste wine\n",
      "19    Worst taste wine\n",
      "Name: quality, dtype: object\n",
      "['Worst taste wine' 'Ouch, my palate' 'Meh, table wine'\n",
      " 'Not bad, second glass' 'Nice, dinner-worthy' \"Chef's kiss\" 'Halleluya']\n"
     ]
    }
   ],
   "source": [
    "df = pd.read_csv(\"wine_quality.csv\")\n",
    "print(df['quality'].head(20))\n",
    "print(df['quality'].unique())"
   ]
  },
  {
   "cell_type": "code",
   "execution_count": 16,
   "id": "235e49df-8400-4512-9865-5cccab9812b7",
   "metadata": {},
   "outputs": [],
   "source": [
    "quality_map = {\n",
    "    'Worst taste wine': 0,\n",
    "    'Ouch, my palate': 1,\n",
    "    'Meh, table wine': 2,\n",
    "    'Not bad, second glass': 3,\n",
    "    'Nice, dinner-worthy': 4,\n",
    "    \"Chef's kiss\": 5,\n",
    "    'Halleluya': 6\n",
    "}\n",
    "\n",
    "df['quality_encoded'] = df['quality'].map(quality_map)"
   ]
  },
  {
   "cell_type": "code",
   "execution_count": 17,
   "id": "aeaeb511-5a54-4064-b561-07f992b79084",
   "metadata": {},
   "outputs": [
    {
     "name": "stdout",
     "output_type": "stream",
     "text": [
      "            quality  quality_encoded\n",
      "0  Worst taste wine                0\n",
      "1  Worst taste wine                0\n",
      "2  Worst taste wine                0\n",
      "3  Worst taste wine                0\n",
      "4  Worst taste wine                0\n",
      "5  Worst taste wine                0\n",
      "6  Worst taste wine                0\n",
      "7  Worst taste wine                0\n",
      "8  Worst taste wine                0\n",
      "9  Worst taste wine                0\n",
      "quality_encoded\n",
      "3    2836\n",
      "2    2138\n",
      "4    1079\n",
      "1     216\n",
      "5     193\n",
      "0      30\n",
      "6       5\n",
      "Name: count, dtype: int64\n"
     ]
    }
   ],
   "source": [
    "print(df[['quality', 'quality_encoded']].head(10))\n",
    "print(df['quality_encoded'].value_counts())"
   ]
  },
  {
   "cell_type": "code",
   "execution_count": 18,
   "id": "16d5b01d-7bde-486b-88f7-2a00208f1bbe",
   "metadata": {},
   "outputs": [
    {
     "data": {
      "text/html": [
       "<div>\n",
       "<style scoped>\n",
       "    .dataframe tbody tr th:only-of-type {\n",
       "        vertical-align: middle;\n",
       "    }\n",
       "\n",
       "    .dataframe tbody tr th {\n",
       "        vertical-align: top;\n",
       "    }\n",
       "\n",
       "    .dataframe thead th {\n",
       "        text-align: right;\n",
       "    }\n",
       "</style>\n",
       "<table border=\"1\" class=\"dataframe\">\n",
       "  <thead>\n",
       "    <tr style=\"text-align: right;\">\n",
       "      <th></th>\n",
       "      <th>quality</th>\n",
       "      <th>quality_encoded</th>\n",
       "    </tr>\n",
       "  </thead>\n",
       "  <tbody>\n",
       "    <tr>\n",
       "      <th>0</th>\n",
       "      <td>Worst taste wine</td>\n",
       "      <td>0</td>\n",
       "    </tr>\n",
       "    <tr>\n",
       "      <th>1</th>\n",
       "      <td>Worst taste wine</td>\n",
       "      <td>0</td>\n",
       "    </tr>\n",
       "    <tr>\n",
       "      <th>2</th>\n",
       "      <td>Worst taste wine</td>\n",
       "      <td>0</td>\n",
       "    </tr>\n",
       "    <tr>\n",
       "      <th>3</th>\n",
       "      <td>Worst taste wine</td>\n",
       "      <td>0</td>\n",
       "    </tr>\n",
       "    <tr>\n",
       "      <th>4</th>\n",
       "      <td>Worst taste wine</td>\n",
       "      <td>0</td>\n",
       "    </tr>\n",
       "  </tbody>\n",
       "</table>\n",
       "</div>"
      ],
      "text/plain": [
       "            quality  quality_encoded\n",
       "0  Worst taste wine                0\n",
       "1  Worst taste wine                0\n",
       "2  Worst taste wine                0\n",
       "3  Worst taste wine                0\n",
       "4  Worst taste wine                0"
      ]
     },
     "execution_count": 18,
     "metadata": {},
     "output_type": "execute_result"
    }
   ],
   "source": [
    "df[['quality', 'quality_encoded']].head()"
   ]
  },
  {
   "cell_type": "code",
   "execution_count": 19,
   "id": "a684618e-9972-48ef-8a11-45544ef2f7bc",
   "metadata": {},
   "outputs": [
    {
     "data": {
      "text/plain": [
       "Unnamed: 0              0\n",
       "fixed acidity           0\n",
       "volatile acidity        0\n",
       "citric acid             0\n",
       "residual sugar          0\n",
       "chlorides               0\n",
       "free sulfur dioxide     0\n",
       "total sulfur dioxide    0\n",
       "density                 0\n",
       "pH                      0\n",
       "sulphates               0\n",
       "alcohol                 0\n",
       "quality                 0\n",
       "type                    0\n",
       "quality_encoded         0\n",
       "dtype: int64"
      ]
     },
     "execution_count": 19,
     "metadata": {},
     "output_type": "execute_result"
    }
   ],
   "source": [
    "df.isnull().sum()\n"
   ]
  },
  {
   "cell_type": "code",
   "execution_count": 20,
   "id": "89954416-e3f4-49a9-837d-5f338bc2dd4c",
   "metadata": {},
   "outputs": [
    {
     "data": {
      "text/plain": [
       "np.False_"
      ]
     },
     "execution_count": 20,
     "metadata": {},
     "output_type": "execute_result"
    }
   ],
   "source": [
    "df.isnull().values.any()"
   ]
  },
  {
   "cell_type": "code",
   "execution_count": 21,
   "id": "8b31bdcf-e7eb-4df3-87a8-579566c8cea4",
   "metadata": {},
   "outputs": [
    {
     "data": {
      "text/plain": [
       "np.int64(0)"
      ]
     },
     "execution_count": 21,
     "metadata": {},
     "output_type": "execute_result"
    }
   ],
   "source": [
    "df.isnull().sum().sum()\n"
   ]
  },
  {
   "cell_type": "code",
   "execution_count": 26,
   "id": "ebacae38-c3a9-4bfc-ac07-26f8c959ca7c",
   "metadata": {},
   "outputs": [
    {
     "name": "stdout",
     "output_type": "stream",
     "text": [
      "['white' 'red']\n"
     ]
    }
   ],
   "source": [
    "print(df['type'].unique())\n"
   ]
  },
  {
   "cell_type": "code",
   "execution_count": 27,
   "id": "93409121-45fa-434a-a8d2-2942b9f71f98",
   "metadata": {},
   "outputs": [],
   "source": [
    "df['type'] = df['type'].str.strip().str.lower()\n",
    "df['type_encoded'] = df['type'].map({'red': 0, 'white': 1})\n"
   ]
  },
  {
   "cell_type": "code",
   "execution_count": 28,
   "id": "bbb82bf8-12f2-491c-b44c-234c7974c36b",
   "metadata": {},
   "outputs": [
    {
     "name": "stdout",
     "output_type": "stream",
     "text": [
      "    type  type_encoded\n",
      "0  white             1\n",
      "1  white             1\n",
      "2    red             0\n",
      "3    red             0\n",
      "4    red             0\n",
      "type_encoded\n",
      "1    4898\n",
      "0    1599\n",
      "Name: count, dtype: int64\n"
     ]
    }
   ],
   "source": [
    "print(df[['type', 'type_encoded']].head())\n",
    "print(df['type_encoded'].value_counts())\n"
   ]
  },
  {
   "cell_type": "code",
   "execution_count": 32,
   "id": "b60b8160-ef26-4c69-9663-5b5a473eeec8",
   "metadata": {},
   "outputs": [
    {
     "data": {
      "text/html": [
       "<div>\n",
       "<style scoped>\n",
       "    .dataframe tbody tr th:only-of-type {\n",
       "        vertical-align: middle;\n",
       "    }\n",
       "\n",
       "    .dataframe tbody tr th {\n",
       "        vertical-align: top;\n",
       "    }\n",
       "\n",
       "    .dataframe thead th {\n",
       "        text-align: right;\n",
       "    }\n",
       "</style>\n",
       "<table border=\"1\" class=\"dataframe\">\n",
       "  <thead>\n",
       "    <tr style=\"text-align: right;\">\n",
       "      <th></th>\n",
       "      <th>type</th>\n",
       "      <th>type_encoded</th>\n",
       "    </tr>\n",
       "  </thead>\n",
       "  <tbody>\n",
       "    <tr>\n",
       "      <th>0</th>\n",
       "      <td>white</td>\n",
       "      <td>1</td>\n",
       "    </tr>\n",
       "    <tr>\n",
       "      <th>1</th>\n",
       "      <td>white</td>\n",
       "      <td>1</td>\n",
       "    </tr>\n",
       "    <tr>\n",
       "      <th>2</th>\n",
       "      <td>red</td>\n",
       "      <td>0</td>\n",
       "    </tr>\n",
       "    <tr>\n",
       "      <th>3</th>\n",
       "      <td>red</td>\n",
       "      <td>0</td>\n",
       "    </tr>\n",
       "    <tr>\n",
       "      <th>4</th>\n",
       "      <td>red</td>\n",
       "      <td>0</td>\n",
       "    </tr>\n",
       "  </tbody>\n",
       "</table>\n",
       "</div>"
      ],
      "text/plain": [
       "    type  type_encoded\n",
       "0  white             1\n",
       "1  white             1\n",
       "2    red             0\n",
       "3    red             0\n",
       "4    red             0"
      ]
     },
     "execution_count": 32,
     "metadata": {},
     "output_type": "execute_result"
    }
   ],
   "source": [
    "df[['type', 'type_encoded']].head()"
   ]
  },
  {
   "cell_type": "code",
   "execution_count": 33,
   "id": "403fd3fe-6865-43ef-9823-bcf40b881823",
   "metadata": {},
   "outputs": [],
   "source": [
    "df['type'] = df['type_encoded']\n",
    "df = df.drop(columns=['type_encoded'])\n"
   ]
  },
  {
   "cell_type": "code",
   "execution_count": 34,
   "id": "1c54c480-d1f2-4332-9618-06f9ad2394e1",
   "metadata": {},
   "outputs": [
    {
     "data": {
      "image/png": "[encoded data removed]",
      "text/plain": [
       "<Figure size 640x480 with 1 Axes>"
      ]
     },
     "metadata": {},
     "output_type": "display_data"
    }
   ],
   "source": [
    "import matplotlib.pyplot as plt\n",
    "df['quality_encoded'].value_counts().sort_index().plot(kind='bar')\n",
    "plt.xlabel('Quality Level (0 = Worst, 6 = Best)')\n",
    "plt.ylabel('Number of Wines')\n",
    "plt.title('Distribution of Wine Quality')\n",
    "plt.show()\n"
   ]
  },
  {
   "cell_type": "code",
   "execution_count": 37,
   "id": "985273b0-9e48-48f4-a36f-e6bdce85c3e8",
   "metadata": {},
   "outputs": [
    {
     "data": {
      "text/html": [
       "<div>\n",
       "<style scoped>\n",
       "    .dataframe tbody tr th:only-of-type {\n",
       "        vertical-align: middle;\n",
       "    }\n",
       "\n",
       "    .dataframe tbody tr th {\n",
       "        vertical-align: top;\n",
       "    }\n",
       "\n",
       "    .dataframe thead th {\n",
       "        text-align: right;\n",
       "    }\n",
       "</style>\n",
       "<table border=\"1\" class=\"dataframe\">\n",
       "  <thead>\n",
       "    <tr style=\"text-align: right;\">\n",
       "      <th></th>\n",
       "      <th>type</th>\n",
       "    </tr>\n",
       "  </thead>\n",
       "  <tbody>\n",
       "    <tr>\n",
       "      <th>0</th>\n",
       "      <td>1</td>\n",
       "    </tr>\n",
       "    <tr>\n",
       "      <th>1</th>\n",
       "      <td>1</td>\n",
       "    </tr>\n",
       "    <tr>\n",
       "      <th>2</th>\n",
       "      <td>0</td>\n",
       "    </tr>\n",
       "    <tr>\n",
       "      <th>3</th>\n",
       "      <td>0</td>\n",
       "    </tr>\n",
       "    <tr>\n",
       "      <th>4</th>\n",
       "      <td>0</td>\n",
       "    </tr>\n",
       "  </tbody>\n",
       "</table>\n",
       "</div>"
      ],
      "text/plain": [
       "   type\n",
       "0     1\n",
       "1     1\n",
       "2     0\n",
       "3     0\n",
       "4     0"
      ]
     },
     "execution_count": 37,
     "metadata": {},
     "output_type": "execute_result"
    }
   ],
   "source": [
    "df[['type']].head()"
   ]
  },
  {
   "cell_type": "code",
   "execution_count": 39,
   "id": "ed5024d1-af74-4c20-be7e-89ebd05f1587",
   "metadata": {},
   "outputs": [
    {
     "ename": "KeyError",
     "evalue": "'quality_encoded'",
     "output_type": "error",
     "traceback": [
      "\u001b[1;31m---------------------------------------------------------------------------\u001b[0m",
      "\u001b[1;31mKeyError\u001b[0m                                  Traceback (most recent call last)",
      "File \u001b[1;32m~\\anaconda3\\Lib\\site-packages\\pandas\\core\\indexes\\base.py:3805\u001b[0m, in \u001b[0;36mIndex.get_loc\u001b[1;34m(self, key)\u001b[0m\n\u001b[0;32m   3804\u001b[0m \u001b[38;5;28;01mtry\u001b[39;00m:\n\u001b[1;32m-> 3805\u001b[0m     \u001b[38;5;28;01mreturn\u001b[39;00m \u001b[38;5;28mself\u001b[39m\u001b[38;5;241m.\u001b[39m_engine\u001b[38;5;241m.\u001b[39mget_loc(casted_key)\n\u001b[0;32m   3806\u001b[0m \u001b[38;5;28;01mexcept\u001b[39;00m \u001b[38;5;167;01mKeyError\u001b[39;00m \u001b[38;5;28;01mas\u001b[39;00m err:\n",
      "File \u001b[1;32mindex.pyx:167\u001b[0m, in \u001b[0;36mpandas._libs.index.IndexEngine.get_loc\u001b[1;34m()\u001b[0m\n",
      "File \u001b[1;32mindex.pyx:196\u001b[0m, in \u001b[0;36mpandas._libs.index.IndexEngine.get_loc\u001b[1;34m()\u001b[0m\n",
      "File \u001b[1;32mpandas\\\\_libs\\\\hashtable_class_helper.pxi:7081\u001b[0m, in \u001b[0;36mpandas._libs.hashtable.PyObjectHashTable.get_item\u001b[1;34m()\u001b[0m\n",
      "File \u001b[1;32mpandas\\\\_libs\\\\hashtable_class_helper.pxi:7089\u001b[0m, in \u001b[0;36mpandas._libs.hashtable.PyObjectHashTable.get_item\u001b[1;34m()\u001b[0m\n",
      "\u001b[1;31mKeyError\u001b[0m: 'quality_encoded'",
      "\nThe above exception was the direct cause of the following exception:\n",
      "\u001b[1;31mKeyError\u001b[0m                                  Traceback (most recent call last)",
      "Cell \u001b[1;32mIn[39], line 1\u001b[0m\n\u001b[1;32m----> 1\u001b[0m df[\u001b[38;5;124m'\u001b[39m\u001b[38;5;124mquality\u001b[39m\u001b[38;5;124m'\u001b[39m] \u001b[38;5;241m=\u001b[39m df[\u001b[38;5;124m'\u001b[39m\u001b[38;5;124mquality_encoded\u001b[39m\u001b[38;5;124m'\u001b[39m]\n\u001b[0;32m      2\u001b[0m df \u001b[38;5;241m=\u001b[39m df\u001b[38;5;241m.\u001b[39mdrop(columns\u001b[38;5;241m=\u001b[39m[\u001b[38;5;124m'\u001b[39m\u001b[38;5;124mquality_encoded\u001b[39m\u001b[38;5;124m'\u001b[39m])\n",
      "File \u001b[1;32m~\\anaconda3\\Lib\\site-packages\\pandas\\core\\frame.py:4102\u001b[0m, in \u001b[0;36mDataFrame.__getitem__\u001b[1;34m(self, key)\u001b[0m\n\u001b[0;32m   4100\u001b[0m \u001b[38;5;28;01mif\u001b[39;00m \u001b[38;5;28mself\u001b[39m\u001b[38;5;241m.\u001b[39mcolumns\u001b[38;5;241m.\u001b[39mnlevels \u001b[38;5;241m>\u001b[39m \u001b[38;5;241m1\u001b[39m:\n\u001b[0;32m   4101\u001b[0m     \u001b[38;5;28;01mreturn\u001b[39;00m \u001b[38;5;28mself\u001b[39m\u001b[38;5;241m.\u001b[39m_getitem_multilevel(key)\n\u001b[1;32m-> 4102\u001b[0m indexer \u001b[38;5;241m=\u001b[39m \u001b[38;5;28mself\u001b[39m\u001b[38;5;241m.\u001b[39mcolumns\u001b[38;5;241m.\u001b[39mget_loc(key)\n\u001b[0;32m   4103\u001b[0m \u001b[38;5;28;01mif\u001b[39;00m is_integer(indexer):\n\u001b[0;32m   4104\u001b[0m     indexer \u001b[38;5;241m=\u001b[39m [indexer]\n",
      "File \u001b[1;32m~\\anaconda3\\Lib\\site-packages\\pandas\\core\\indexes\\base.py:3812\u001b[0m, in \u001b[0;36mIndex.get_loc\u001b[1;34m(self, key)\u001b[0m\n\u001b[0;32m   3807\u001b[0m     \u001b[38;5;28;01mif\u001b[39;00m \u001b[38;5;28misinstance\u001b[39m(casted_key, \u001b[38;5;28mslice\u001b[39m) \u001b[38;5;129;01mor\u001b[39;00m (\n\u001b[0;32m   3808\u001b[0m         \u001b[38;5;28misinstance\u001b[39m(casted_key, abc\u001b[38;5;241m.\u001b[39mIterable)\n\u001b[0;32m   3809\u001b[0m         \u001b[38;5;129;01mand\u001b[39;00m \u001b[38;5;28many\u001b[39m(\u001b[38;5;28misinstance\u001b[39m(x, \u001b[38;5;28mslice\u001b[39m) \u001b[38;5;28;01mfor\u001b[39;00m x \u001b[38;5;129;01min\u001b[39;00m casted_key)\n\u001b[0;32m   3810\u001b[0m     ):\n\u001b[0;32m   3811\u001b[0m         \u001b[38;5;28;01mraise\u001b[39;00m InvalidIndexError(key)\n\u001b[1;32m-> 3812\u001b[0m     \u001b[38;5;28;01mraise\u001b[39;00m \u001b[38;5;167;01mKeyError\u001b[39;00m(key) \u001b[38;5;28;01mfrom\u001b[39;00m\u001b[38;5;250m \u001b[39m\u001b[38;5;21;01merr\u001b[39;00m\n\u001b[0;32m   3813\u001b[0m \u001b[38;5;28;01mexcept\u001b[39;00m \u001b[38;5;167;01mTypeError\u001b[39;00m:\n\u001b[0;32m   3814\u001b[0m     \u001b[38;5;66;03m# If we have a listlike key, _check_indexing_error will raise\u001b[39;00m\n\u001b[0;32m   3815\u001b[0m     \u001b[38;5;66;03m#  InvalidIndexError. Otherwise we fall through and re-raise\u001b[39;00m\n\u001b[0;32m   3816\u001b[0m     \u001b[38;5;66;03m#  the TypeError.\u001b[39;00m\n\u001b[0;32m   3817\u001b[0m     \u001b[38;5;28mself\u001b[39m\u001b[38;5;241m.\u001b[39m_check_indexing_error(key)\n",
      "\u001b[1;31mKeyError\u001b[0m: 'quality_encoded'"
     ]
    }
   ],
   "source": [
    "df['quality'] = df['quality_encoded']\n",
    "df = df.drop(columns=['quality_encoded'])  # optional: remove the old one"
   ]
  },
  {
   "cell_type": "code",
   "execution_count": 41,
   "id": "de8c1771-3169-4a29-8e26-dc869e0c9447",
   "metadata": {},
   "outputs": [
    {
     "data": {
      "text/html": [
       "<div>\n",
       "<style scoped>\n",
       "    .dataframe tbody tr th:only-of-type {\n",
       "        vertical-align: middle;\n",
       "    }\n",
       "\n",
       "    .dataframe tbody tr th {\n",
       "        vertical-align: top;\n",
       "    }\n",
       "\n",
       "    .dataframe thead th {\n",
       "        text-align: right;\n",
       "    }\n",
       "</style>\n",
       "<table border=\"1\" class=\"dataframe\">\n",
       "  <thead>\n",
       "    <tr style=\"text-align: right;\">\n",
       "      <th></th>\n",
       "      <th>quality</th>\n",
       "    </tr>\n",
       "  </thead>\n",
       "  <tbody>\n",
       "    <tr>\n",
       "      <th>0</th>\n",
       "      <td>0</td>\n",
       "    </tr>\n",
       "    <tr>\n",
       "      <th>1</th>\n",
       "      <td>0</td>\n",
       "    </tr>\n",
       "    <tr>\n",
       "      <th>2</th>\n",
       "      <td>0</td>\n",
       "    </tr>\n",
       "    <tr>\n",
       "      <th>3</th>\n",
       "      <td>0</td>\n",
       "    </tr>\n",
       "    <tr>\n",
       "      <th>4</th>\n",
       "      <td>0</td>\n",
       "    </tr>\n",
       "  </tbody>\n",
       "</table>\n",
       "</div>"
      ],
      "text/plain": [
       "   quality\n",
       "0        0\n",
       "1        0\n",
       "2        0\n",
       "3        0\n",
       "4        0"
      ]
     },
     "execution_count": 41,
     "metadata": {},
     "output_type": "execute_result"
    }
   ],
   "source": [
    "df[['quality']].head()"
   ]
  },
  {
   "cell_type": "code",
   "execution_count": 44,
   "id": "c01091fe-d791-4b1a-95e9-f84369eda1cf",
   "metadata": {},
   "outputs": [
    {
     "name": "stdout",
     "output_type": "stream",
     "text": [
      "Index(['fixed acidity', 'volatile acidity', 'citric acid', 'residual sugar',\n",
      "       'chlorides', 'free sulfur dioxide', 'total sulfur dioxide', 'density',\n",
      "       'pH', 'sulphates', 'alcohol', 'quality', 'type'],\n",
      "      dtype='object')\n"
     ]
    }
   ],
   "source": [
    "print(df.columns)"
   ]
  },
  {
   "cell_type": "code",
   "execution_count": 45,
   "id": "1d9df92d-deee-464b-8f7d-0e24639b9803",
   "metadata": {},
   "outputs": [
    {
     "name": "stdout",
     "output_type": "stream",
     "text": [
      "int64\n"
     ]
    }
   ],
   "source": [
    "print(df['quality'].dtype)\n"
   ]
  },
  {
   "cell_type": "code",
   "execution_count": 52,
   "id": "cfbcb7d0-55a8-4e1a-87ac-ae18a13824ab",
   "metadata": {},
   "outputs": [
    {
     "name": "stdout",
     "output_type": "stream",
     "text": [
      "0    0\n",
      "1    0\n",
      "2    0\n",
      "3    0\n",
      "4    0\n",
      "Name: quality, dtype: int64\n"
     ]
    }
   ],
   "source": [
    "print(df['quality'].head())\n"
   ]
  },
  {
   "cell_type": "code",
   "execution_count": 53,
   "id": "94c3ca01-fd07-48fe-9dbe-b699b30da68c",
   "metadata": {},
   "outputs": [
    {
     "name": "stdout",
     "output_type": "stream",
     "text": [
      "count    6497.000000\n",
      "mean        2.818378\n",
      "std         0.873255\n",
      "min         0.000000\n",
      "25%         2.000000\n",
      "50%         3.000000\n",
      "75%         3.000000\n",
      "max         6.000000\n",
      "Name: quality, dtype: float64\n"
     ]
    }
   ],
   "source": [
    "print(df['quality'].describe())"
   ]
  },
  {
   "cell_type": "code",
   "execution_count": 54,
   "id": "cbfb0caa-4167-4be4-8722-5d7e217fd9ae",
   "metadata": {},
   "outputs": [
    {
     "name": "stdout",
     "output_type": "stream",
     "text": [
      "0\n"
     ]
    }
   ],
   "source": [
    "print(df['quality'].isnull().sum())\n"
   ]
  },
  {
   "cell_type": "code",
   "execution_count": 55,
   "id": "d4d9d2d9-03ac-4839-bae2-c023f415e9ee",
   "metadata": {},
   "outputs": [
    {
     "data": {
      "text/plain": [
       "array([0, 1, 2, 3, 4, 5, 6])"
      ]
     },
     "execution_count": 55,
     "metadata": {},
     "output_type": "execute_result"
    }
   ],
   "source": [
    "df['quality'].unique()"
   ]
  },
  {
   "cell_type": "code",
   "execution_count": 57,
   "id": "45f2c140-0ce4-4d1b-9f81-cb7b32be4217",
   "metadata": {},
   "outputs": [],
   "source": [
    "target = 'quality'"
   ]
  },
  {
   "cell_type": "code",
   "execution_count": 58,
   "id": "872fbd60-d0a8-4355-a1e4-e8f1826f5f77",
   "metadata": {},
   "outputs": [],
   "source": [
    "features = df.drop(columns=['quality'])"
   ]
  },
  {
   "cell_type": "code",
   "execution_count": 59,
   "id": "6f9d3def-849e-435b-8341-ab9029a8c14c",
   "metadata": {},
   "outputs": [
    {
     "name": "stdout",
     "output_type": "stream",
     "text": [
      "quality                 1.000000\n",
      "alcohol                 0.444319\n",
      "type                    0.119323\n",
      "citric acid             0.085532\n",
      "free sulfur dioxide     0.055463\n",
      "sulphates               0.038485\n",
      "pH                      0.019506\n",
      "residual sugar         -0.036980\n",
      "total sulfur dioxide   -0.041385\n",
      "fixed acidity          -0.076743\n",
      "chlorides              -0.200666\n",
      "volatile acidity       -0.265699\n",
      "density                -0.305858\n",
      "Name: quality, dtype: float64\n"
     ]
    }
   ],
   "source": [
    "import pandas as pd\n",
    "\n",
    "correlation = df.corr()['quality'].sort_values(ascending=False)\n",
    "print(correlation)"
   ]
  },
  {
   "cell_type": "code",
   "execution_count": 60,
   "id": "73d85f6e-c41f-4e08-89b0-9431ef84d207",
   "metadata": {},
   "outputs": [
    {
     "data": {
      "image/png": "[encoded data removed]",
      "text/plain": [
       "<Figure size 1000x800 with 2 Axes>"
      ]
     },
     "metadata": {},
     "output_type": "display_data"
    }
   ],
   "source": [
    "import matplotlib.pyplot as plt\n",
    "import seaborn as sns\n",
    "\n",
    "plt.figure(figsize=(10,8))\n",
    "sns.heatmap(df.corr(), annot=True, cmap='coolwarm')\n",
    "plt.title('Feature Correlation with Quality')\n",
    "plt.show()\n"
   ]
  },
  {
   "cell_type": "code",
   "execution_count": 61,
   "id": "96bf6dec-cacc-4eff-8211-33db906fa90a",
   "metadata": {},
   "outputs": [
    {
     "name": "stdout",
     "output_type": "stream",
     "text": [
      "📊 Correlation of features with quality:\n",
      "\n",
      "quality                 1.000000\n",
      "alcohol                 0.444319\n",
      "type                    0.119323\n",
      "citric acid             0.085532\n",
      "free sulfur dioxide     0.055463\n",
      "sulphates               0.038485\n",
      "pH                      0.019506\n",
      "residual sugar         -0.036980\n",
      "total sulfur dioxide   -0.041385\n",
      "fixed acidity          -0.076743\n",
      "chlorides              -0.200666\n",
      "volatile acidity       -0.265699\n",
      "density                -0.305858\n",
      "Name: quality, dtype: float64\n"
     ]
    }
   ],
   "source": [
    "import pandas as pd\n",
    "\n",
    "# Calculate correlations\n",
    "correlation = df.corr()['quality'].sort_values(ascending=False)\n",
    "print(\"📊 Correlation of features with quality:\\n\")\n",
    "print(correlation)\n"
   ]
  },
  {
   "cell_type": "code",
   "execution_count": 62,
   "id": "f92863df-48ce-4dc7-8486-70c5c8b5587c",
   "metadata": {},
   "outputs": [],
   "source": [
    "selected_features = ['alcohol', 'volatile acidity', 'sulphates',\n",
    "                     'citric acid', 'type', 'quality']\n",
    "\n",
    "df_selected = df[selected_features]\n",
    "\n",
    "# Save a simpler dataset\n",
    "df_selected.to_csv(\"wine_selected_features.csv\", index=False)"
   ]
  },
  {
   "cell_type": "code",
   "execution_count": 64,
   "id": "d3a22e9b-bc87-408e-8035-5bf356b1880d",
   "metadata": {},
   "outputs": [
    {
     "name": "stdout",
     "output_type": "stream",
     "text": [
      " First 5 rows of your wine features:\n",
      " alcohol  volatile acidity  sulphates  citric acid  type\n",
      "    10.5              0.26       0.64         0.25     1\n",
      "    10.5              0.26       0.52         0.34     1\n",
      "     9.0              0.58       0.57         0.66     0\n",
      "     8.4              0.61       0.63         0.49     0\n",
      "     9.9              0.44       0.86         0.42     0\n"
     ]
    }
   ],
   "source": [
    "import numpy as np\n",
    "import pandas as pd\n",
    "\n",
    "RSEED = 77\n",
    "np.random.seed(RSEED)\n",
    "\n",
    "# Load cleaned and simplified dataset\n",
    "df = pd.read_csv(\"wine_selected_features.csv\")\n",
    "\n",
    "# Define features (X) and target (y)\n",
    "X = df.drop(columns=['quality'])   # all columns except quality\n",
    "y = df['quality']                  # target: wine quality (0–6)\n",
    "\n",
    "# Class names for readability (optional but useful)\n",
    "class_names = [\n",
    "    'Worst taste wine',\n",
    "    'Ouch, my palate',\n",
    "    'Meh, table wine',\n",
    "    'Not bad, second glass',\n",
    "    'Nice, dinner-worthy',\n",
    "    \"Chef's kiss\",\n",
    "    'Halleluya'\n",
    "]\n",
    "\n",
    "# Quick peek at feature matrix\n",
    "print(\" First 5 rows of your wine features:\")\n",
    "print(X.head().to_string(index=False))\n"
   ]
  },
  {
   "cell_type": "code",
   "execution_count": 65,
   "id": "248171fd-c983-43e3-988b-47c6c5fc6137",
   "metadata": {},
   "outputs": [
    {
     "name": "stdout",
     "output_type": "stream",
     "text": [
      "\n",
      "Train size: 4872   Test size: 1625\n"
     ]
    }
   ],
   "source": [
    "from sklearn.model_selection import train_test_split\n",
    "\n",
    "# Train/test split (stratified to preserve class ratios)\n",
    "X_train, X_test, y_train, y_test = train_test_split(\n",
    "    X, y, \n",
    "    test_size=0.25, \n",
    "    random_state=RSEED, \n",
    "    stratify=y   # important: keeps class distribution the same\n",
    ")\n",
    "\n",
    "print(f\"\\nTrain size: {len(X_train)}   Test size: {len(X_test)}\")\n"
   ]
  },
  {
   "cell_type": "code",
   "execution_count": 67,
   "id": "0831243c-e3f2-4098-9d0d-1708625b32fb",
   "metadata": {},
   "outputs": [],
   "source": [
    "from sklearn.ensemble import RandomForestClassifier\n",
    "\n",
    "#  Define the model\n",
    "clf = RandomForestClassifier(\n",
    "    n_estimators=100,\n",
    "    random_state=RSEED,\n",
    "    n_jobs=-1\n",
    ")\n",
    "\n",
    "#  Train the model on the training set\n",
    "clf.fit(X_train, y_train)\n",
    "\n",
    "#  Predict wine quality on the test set\n",
    "y_pred = clf.predict(X_test)\n"
   ]
  },
  {
   "cell_type": "code",
   "execution_count": 68,
   "id": "7fad1ae2-c89e-4498-b8bf-6d220150136e",
   "metadata": {
    "scrolled": true
   },
   "outputs": [
    {
     "name": "stdout",
     "output_type": "stream",
     "text": [
      "\n",
      " Model Accuracy: 0.640\n",
      "\n",
      "Confusion Matrix:\n",
      "                       Worst taste wine  Ouch, my palate  Meh, table wine  \\\n",
      "Worst taste wine                      0                1                3   \n",
      "Ouch, my palate                       0                5               24   \n",
      "Meh, table wine                       0                1              366   \n",
      "Not bad, second glass                 0                3              120   \n",
      "Nice, dinner-worthy                   0                0               10   \n",
      "Chef's kiss                           0                0                3   \n",
      "Halleluya                             0                0                0   \n",
      "\n",
      "                       Not bad, second glass  Nice, dinner-worthy  \\\n",
      "Worst taste wine                           4                    0   \n",
      "Ouch, my palate                           23                    2   \n",
      "Meh, table wine                          165                    3   \n",
      "Not bad, second glass                    521                   63   \n",
      "Nice, dinner-worthy                      120                  135   \n",
      "Chef's kiss                               18                   14   \n",
      "Halleluya                                  1                    0   \n",
      "\n",
      "                       Chef's kiss  Halleluya  \n",
      "Worst taste wine                 0          0  \n",
      "Ouch, my palate                  0          0  \n",
      "Meh, table wine                  0          0  \n",
      "Not bad, second glass            2          0  \n",
      "Nice, dinner-worthy              5          0  \n",
      "Chef's kiss                     13          0  \n",
      "Halleluya                        0          0  \n"
     ]
    }
   ],
   "source": [
    "from sklearn.metrics import accuracy_score, confusion_matrix\n",
    "import pandas as pd\n",
    "\n",
    "# Accuracy score\n",
    "acc = accuracy_score(y_test, y_pred)\n",
    "print(f\"\\n Model Accuracy: {acc:.3f}\")\n",
    "\n",
    "# Confusion matrix\n",
    "cm = confusion_matrix(y_test, y_pred)\n",
    "\n",
    "# Use class_names we defined earlier (for readability)\n",
    "cm_df = pd.DataFrame(cm, index=class_names, columns=class_names)\n",
    "\n",
    "print(\"\\nConfusion Matrix:\")\n",
    "print(cm_df)\n"
   ]
  },
  {
   "cell_type": "code",
   "execution_count": 69,
   "id": "b3d15f93-39ee-4969-a319-567f23f78552",
   "metadata": {},
   "outputs": [
    {
     "name": "stdout",
     "output_type": "stream",
     "text": [
      "\n",
      "5-fold CV accuracy: mean=0.658, std=0.009\n"
     ]
    }
   ],
   "source": [
    "from sklearn.model_selection import StratifiedKFold, cross_val_score\n",
    "\n",
    "# 5-fold stratified cross-validation on the full dataset\n",
    "cv = StratifiedKFold(n_splits=5, shuffle=True, random_state=RSEED)\n",
    "\n",
    "cv_scores = cross_val_score(\n",
    "    clf,                # your RandomForestClassifier\n",
    "    X, y,               # features and target from wine dataset\n",
    "    cv=cv,\n",
    "    scoring=\"accuracy\",\n",
    "    n_jobs=-1\n",
    ")\n",
    "\n",
    "print(f\"\\n5-fold CV accuracy: mean={cv_scores.mean():.3f}, std={cv_scores.std():.3f}\")\n"
   ]
  },
  {
   "cell_type": "code",
   "execution_count": 70,
   "id": "a989b670-696e-4224-a2c6-4daf9e3e5935",
   "metadata": {},
   "outputs": [
    {
     "name": "stdout",
     "output_type": "stream",
     "text": [
      "\n",
      " Feature Importances:\n",
      "alcohol             0.271735\n",
      "sulphates           0.243816\n",
      "volatile acidity    0.242205\n",
      "citric acid         0.226076\n",
      "type                0.016169\n",
      "dtype: float64\n"
     ]
    }
   ],
   "source": [
    "# Feature importance (sorted)\n",
    "fi = pd.Series(clf.feature_importances_, index=X.columns).sort_values(ascending=False)\n",
    "print(\"\\n Feature Importances:\")\n",
    "print(fi)"
   ]
  },
  {
   "cell_type": "code",
   "execution_count": 71,
   "id": "f59d411f-b89e-44a3-ac97-658b07932d96",
   "metadata": {},
   "outputs": [
    {
     "data": {
      "image/png": "[encoded data removed]",
      "text/plain": [
       "<Figure size 800x500 with 1 Axes>"
      ]
     },
     "metadata": {},
     "output_type": "display_data"
    }
   ],
   "source": [
    "import matplotlib.pyplot as plt\n",
    "\n",
    "fi.plot(kind='barh', figsize=(8, 5))\n",
    "plt.title(\"Feature Importance (Random Forest)\")\n",
    "plt.xlabel(\"Importance Score\")\n",
    "plt.ylabel(\"Feature\")\n",
    "plt.gca().invert_yaxis()\n",
    "plt.show()\n"
   ]
  },
  {
   "cell_type": "markdown",
   "id": "e350af7b-00ed-4fcd-9b25-62cff390da1e",
   "metadata": {},
   "source": [
    "Conclusion:\n",
    "\n",
    "In this project, I built a machine learning model to predict wine quality using chemical properties like alcohol, acidity, and sulphates. After preprocessing the data and training a Random Forest Classifier, the model achieved about **65% accuracy**. I also explored feature importance and created a function to predict the quality of new wine samples. This project showed how machine learning can support wine quality assessment during production.\n"
   ]
  },
  {
   "cell_type": "code",
   "execution_count": null,
   "id": "f5e3ef72-cd23-4070-a6cd-125f7e49c2bc",
   "metadata": {},
   "outputs": [],
   "source": []
  }
 ],
 "metadata": {
  "kernelspec": {
   "display_name": "Python [conda env:base] *",
   "language": "python",
   "name": "conda-base-py"
  },
  "language_info": {
   "codemirror_mode": {
    "name": "ipython",
    "version": 3
   },
   "file_extension": ".py",
   "mimetype": "text/x-python",
   "name": "python",
   "nbconvert_exporter": "python",
   "pygments_lexer": "ipython3",
   "version": "3.13.5"
  }
 },
 "nbformat": 4,
 "nbformat_minor": 5
}
